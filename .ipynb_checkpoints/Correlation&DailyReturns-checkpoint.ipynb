{
 "cells": [
  {
   "cell_type": "code",
   "execution_count": 1,
   "id": "eb947f7d-a370-4144-9c83-db6dc614a178",
   "metadata": {},
   "outputs": [],
   "source": [
    "# Initial imports\n",
    "import pandas as pd\n",
    "import numpy as np\n",
    "import datetime as dt\n",
    "from pathlib import Path\n",
    "import seaborn as sns\n",
    "import matplotlib.pyplot as plt\n",
    "%matplotlib inline"
   ]
  },
  {
   "cell_type": "code",
   "execution_count": 6,
   "id": "bcd14eb7-b6ed-4e07-8c24-9c9300d295d8",
   "metadata": {},
   "outputs": [],
   "source": [
    "# Set file path to csv and use file path to read CSV into a DataFrame and displaying a few rows\n",
    "xlf_csv = Path(\"CsvFiles/XLF.csv\")\n",
    "ndxt_csv= Path(\"CsvFiles/NDXT.csv\")\n",
    "# set file path to read CSV into a DataFrame\n",
    "xlf_data = pd.read_csv(xlf_csv)\n",
    "ndxt_data = "
   ]
  },
  {
   "cell_type": "code",
   "execution_count": null,
   "id": "7d83bec6-79d4-4230-9fbe-e939ee082f20",
   "metadata": {},
   "outputs": [],
   "source": []
  }
 ],
 "metadata": {
  "kernelspec": {
   "display_name": "Python 3 (ipykernel)",
   "language": "python",
   "name": "python3"
  },
  "language_info": {
   "codemirror_mode": {
    "name": "ipython",
    "version": 3
   },
   "file_extension": ".py",
   "mimetype": "text/x-python",
   "name": "python",
   "nbconvert_exporter": "python",
   "pygments_lexer": "ipython3",
   "version": "3.8.8"
  }
 },
 "nbformat": 4,
 "nbformat_minor": 5
}
