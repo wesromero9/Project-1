{
 "cells": [
  {
   "cell_type": "code",
   "execution_count": 4,
   "id": "48ce8150",
   "metadata": {},
   "outputs": [
    {
     "name": "stderr",
     "output_type": "stream",
     "text": [
      "WARNING:param.panel_extension: A HoloViz extension was loaded previously. This means the extension is already initialized and the following Panel extensions could not be properly loaded: ['plotly']. If you are loading custom extensions with pn.extension(...) ensure that this is called before any other HoloViz extension such as hvPlot or HoloViews.\n"
     ]
    }
   ],
   "source": [
    "from yahoofinancials import YahooFinancials\n",
    "from sklearn import preprocessing\n",
    "import numpy as np\n",
    "import datetime\n",
    "import plotly.express as px\n",
    "import hvplot.pandas\n",
    "import matplotlib.pyplot as plt\n",
    "import hvplot.pandas\n",
    "import plotly.express as px\n",
    "from pathlib import Path\n",
    "from panel.interact import interact\n",
    "import panel as pn\n",
    "from pandas_datareader import data as pdr\n",
    "import pandas as pd\n",
    "pn.extension('plotly')\n",
    "import matplotlib \n",
    "%matplotlib inline\n",
    "import seaborn as sns"
   ]
  },
  {
   "cell_type": "code",
   "execution_count": 5,
   "id": "fa9896e1",
   "metadata": {},
   "outputs": [],
   "source": [
    "start_sp = datetime.datetime(2010, 7, 16)\n",
    "end_sp = datetime.datetime(2019, 10, 1)\n",
    "\n",
    "#create dataframes\n",
    "\n",
    "#SPDR S&P 500 ETF\n",
    "SPX_df_inception = pdr.get_data_yahoo('SPY', start_sp, end_sp)\n",
    "\n",
    "#VGT Vanguard Index\n",
    "VGT_df_inception = pdr.get_data_yahoo('VGT', start_sp, end_sp)\n",
    "\n",
    "#US Dollar/USDX - Index\n",
    "USD_df_inception = pdr.get_data_yahoo('DX-Y.NYB', start_sp, end_sp)\n"
   ]
  },
  {
   "cell_type": "code",
   "execution_count": 6,
   "id": "6a209482",
   "metadata": {},
   "outputs": [
    {
     "data": {
      "text/html": [
       "<div>\n",
       "<style scoped>\n",
       "    .dataframe tbody tr th:only-of-type {\n",
       "        vertical-align: middle;\n",
       "    }\n",
       "\n",
       "    .dataframe tbody tr th {\n",
       "        vertical-align: top;\n",
       "    }\n",
       "\n",
       "    .dataframe thead th {\n",
       "        text-align: right;\n",
       "    }\n",
       "</style>\n",
       "<table border=\"1\" class=\"dataframe\">\n",
       "  <thead>\n",
       "    <tr style=\"text-align: right;\">\n",
       "      <th></th>\n",
       "      <th>Close</th>\n",
       "    </tr>\n",
       "    <tr>\n",
       "      <th>Date</th>\n",
       "      <th></th>\n",
       "    </tr>\n",
       "  </thead>\n",
       "  <tbody>\n",
       "    <tr>\n",
       "      <th>2010-07-16</th>\n",
       "      <td>82.489998</td>\n",
       "    </tr>\n",
       "    <tr>\n",
       "      <th>2010-07-19</th>\n",
       "      <td>82.510002</td>\n",
       "    </tr>\n",
       "    <tr>\n",
       "      <th>2010-07-20</th>\n",
       "      <td>82.750000</td>\n",
       "    </tr>\n",
       "    <tr>\n",
       "      <th>2010-07-21</th>\n",
       "      <td>83.389999</td>\n",
       "    </tr>\n",
       "    <tr>\n",
       "      <th>2010-07-22</th>\n",
       "      <td>82.599998</td>\n",
       "    </tr>\n",
       "  </tbody>\n",
       "</table>\n",
       "</div>"
      ],
      "text/plain": [
       "                Close\n",
       "Date                 \n",
       "2010-07-16  82.489998\n",
       "2010-07-19  82.510002\n",
       "2010-07-20  82.750000\n",
       "2010-07-21  83.389999\n",
       "2010-07-22  82.599998"
      ]
     },
     "execution_count": 6,
     "metadata": {},
     "output_type": "execute_result"
    }
   ],
   "source": [
    "SPX_df_inception.drop(columns=['High', 'Low', 'Open', 'Volume', 'Adj Close'], inplace=True)\n",
    "SPX_df_inception.head()\n",
    "VGT_df_inception.drop(columns=['High', 'Low', 'Open', 'Volume', 'Adj Close'], inplace=True)\n",
    "VGT_df_inception.head()\n",
    "USD_df_inception.drop(columns=['High', 'Low', 'Open', 'Volume', 'Adj Close'], inplace=True)\n",
    "USD_df_inception.head()"
   ]
  },
  {
   "cell_type": "code",
   "execution_count": 7,
   "id": "ef855531",
   "metadata": {},
   "outputs": [],
   "source": [
    "SPX_df_inception = SPX_df_inception.rename(columns = {\"Close\": \"SPX Daily Returns\"}) \n",
    "VGT_df_inception = AGG_df_inception.rename(columns = {\"Close\": \"VGT Daily Returns\"})\n",
    "USD_df_inception = USD_df_inception.rename(columns = {\"Close\": \"USD Daily Returns\"}) \n"
   ]
  },
  {
   "cell_type": "code",
   "execution_count": 9,
   "id": "229b235e",
   "metadata": {},
   "outputs": [],
   "source": [
    "VGT_path = Path(\"Csvfiles/VGT1.csv\")\n",
    "prices_VGT = pd.read_csv(VGT_path, index_col='Date', parse_dates=True, infer_datetime_format=True)\n",
    "prices_VGT.drop(columns=['High', 'Low', 'Open', 'Volume', 'Adj Close'], inplace=True)"
   ]
  },
  {
   "cell_type": "code",
   "execution_count": 13,
   "id": "46a1809e",
   "metadata": {},
   "outputs": [
    {
     "data": {
      "text/html": [
       "<div>\n",
       "<style scoped>\n",
       "    .dataframe tbody tr th:only-of-type {\n",
       "        vertical-align: middle;\n",
       "    }\n",
       "\n",
       "    .dataframe tbody tr th {\n",
       "        vertical-align: top;\n",
       "    }\n",
       "\n",
       "    .dataframe thead th {\n",
       "        text-align: right;\n",
       "    }\n",
       "</style>\n",
       "<table border=\"1\" class=\"dataframe\">\n",
       "  <thead>\n",
       "    <tr style=\"text-align: right;\">\n",
       "      <th></th>\n",
       "      <th>SPX Daily Returns</th>\n",
       "      <th>High</th>\n",
       "      <th>Low</th>\n",
       "      <th>Open</th>\n",
       "      <th>VGT Daily Returns</th>\n",
       "      <th>Volume</th>\n",
       "      <th>Adj Close</th>\n",
       "      <th>USD Daily Returns</th>\n",
       "    </tr>\n",
       "    <tr>\n",
       "      <th>Date</th>\n",
       "      <th></th>\n",
       "      <th></th>\n",
       "      <th></th>\n",
       "      <th></th>\n",
       "      <th></th>\n",
       "      <th></th>\n",
       "      <th></th>\n",
       "      <th></th>\n",
       "    </tr>\n",
       "  </thead>\n",
       "  <tbody>\n",
       "    <tr>\n",
       "      <th>2010-07-16</th>\n",
       "      <td>0.000000</td>\n",
       "      <td>0.000000</td>\n",
       "      <td>0.000000</td>\n",
       "      <td>0.000000</td>\n",
       "      <td>0.000000</td>\n",
       "      <td>0.000000</td>\n",
       "      <td>0.000000</td>\n",
       "      <td>0.000000</td>\n",
       "    </tr>\n",
       "    <tr>\n",
       "      <th>2010-07-19</th>\n",
       "      <td>0.005907</td>\n",
       "      <td>-0.000186</td>\n",
       "      <td>0.000560</td>\n",
       "      <td>0.000839</td>\n",
       "      <td>-0.000931</td>\n",
       "      <td>0.102305</td>\n",
       "      <td>-0.000931</td>\n",
       "      <td>0.000243</td>\n",
       "    </tr>\n",
       "    <tr>\n",
       "      <th>2010-07-20</th>\n",
       "      <td>0.011091</td>\n",
       "      <td>0.000279</td>\n",
       "      <td>-0.000187</td>\n",
       "      <td>0.000186</td>\n",
       "      <td>-0.000745</td>\n",
       "      <td>0.449483</td>\n",
       "      <td>-0.000745</td>\n",
       "      <td>0.002909</td>\n",
       "    </tr>\n",
       "    <tr>\n",
       "      <th>2010-07-21</th>\n",
       "      <td>-0.012998</td>\n",
       "      <td>0.002326</td>\n",
       "      <td>0.000187</td>\n",
       "      <td>-0.001304</td>\n",
       "      <td>0.004382</td>\n",
       "      <td>-0.159669</td>\n",
       "      <td>0.004382</td>\n",
       "      <td>0.007734</td>\n",
       "    </tr>\n",
       "    <tr>\n",
       "      <th>2010-07-22</th>\n",
       "      <td>0.022322</td>\n",
       "      <td>-0.001114</td>\n",
       "      <td>0.002144</td>\n",
       "      <td>0.003450</td>\n",
       "      <td>-0.000928</td>\n",
       "      <td>0.774691</td>\n",
       "      <td>-0.000928</td>\n",
       "      <td>-0.009474</td>\n",
       "    </tr>\n",
       "  </tbody>\n",
       "</table>\n",
       "</div>"
      ],
      "text/plain": [
       "            SPX Daily Returns      High       Low      Open  \\\n",
       "Date                                                          \n",
       "2010-07-16           0.000000  0.000000  0.000000  0.000000   \n",
       "2010-07-19           0.005907 -0.000186  0.000560  0.000839   \n",
       "2010-07-20           0.011091  0.000279 -0.000187  0.000186   \n",
       "2010-07-21          -0.012998  0.002326  0.000187 -0.001304   \n",
       "2010-07-22           0.022322 -0.001114  0.002144  0.003450   \n",
       "\n",
       "            VGT Daily Returns    Volume  Adj Close  USD Daily Returns  \n",
       "Date                                                                   \n",
       "2010-07-16           0.000000  0.000000   0.000000           0.000000  \n",
       "2010-07-19          -0.000931  0.102305  -0.000931           0.000243  \n",
       "2010-07-20          -0.000745  0.449483  -0.000745           0.002909  \n",
       "2010-07-21           0.004382 -0.159669   0.004382           0.007734  \n",
       "2010-07-22          -0.000928  0.774691  -0.000928          -0.009474  "
      ]
     },
     "execution_count": 13,
     "metadata": {},
     "output_type": "execute_result"
    }
   ],
   "source": [
    "combined_df_inception_price = pd.concat([SPX_df_inception, VGT_df_inception, USD_df_inception],axis='columns', join=\"inner\")\n",
    "combined_daily_return_inception = combined_df_inception_price.pct_change()\n",
    "combined_daily_return_inception = combined_daily_return_inception.fillna(0, inplace=False)\n",
    "combined_daily_return_inception.head()"
   ]
  },
  {
   "cell_type": "code",
   "execution_count": 14,
   "id": "f3ae0a5f",
   "metadata": {},
   "outputs": [
    {
     "data": {
      "text/html": [
       "<div>\n",
       "<style scoped>\n",
       "    .dataframe tbody tr th:only-of-type {\n",
       "        vertical-align: middle;\n",
       "    }\n",
       "\n",
       "    .dataframe tbody tr th {\n",
       "        vertical-align: top;\n",
       "    }\n",
       "\n",
       "    .dataframe thead th {\n",
       "        text-align: right;\n",
       "    }\n",
       "</style>\n",
       "<table border=\"1\" class=\"dataframe\">\n",
       "  <thead>\n",
       "    <tr style=\"text-align: right;\">\n",
       "      <th></th>\n",
       "      <th>SPX Daily Returns</th>\n",
       "      <th>High</th>\n",
       "      <th>Low</th>\n",
       "      <th>Open</th>\n",
       "      <th>VGT Daily Returns</th>\n",
       "      <th>Volume</th>\n",
       "      <th>Adj Close</th>\n",
       "      <th>USD Daily Returns</th>\n",
       "    </tr>\n",
       "  </thead>\n",
       "  <tbody>\n",
       "    <tr>\n",
       "      <th>SPX Daily Returns</th>\n",
       "      <td>1.000000</td>\n",
       "      <td>-0.265552</td>\n",
       "      <td>-0.236901</td>\n",
       "      <td>-0.149620</td>\n",
       "      <td>-0.267337</td>\n",
       "      <td>-0.044936</td>\n",
       "      <td>-0.273503</td>\n",
       "      <td>-0.179185</td>\n",
       "    </tr>\n",
       "    <tr>\n",
       "      <th>High</th>\n",
       "      <td>-0.265552</td>\n",
       "      <td>1.000000</td>\n",
       "      <td>0.750552</td>\n",
       "      <td>0.762323</td>\n",
       "      <td>0.763116</td>\n",
       "      <td>0.065627</td>\n",
       "      <td>0.726117</td>\n",
       "      <td>-0.082713</td>\n",
       "    </tr>\n",
       "    <tr>\n",
       "      <th>Low</th>\n",
       "      <td>-0.236901</td>\n",
       "      <td>0.750552</td>\n",
       "      <td>1.000000</td>\n",
       "      <td>0.763490</td>\n",
       "      <td>0.775051</td>\n",
       "      <td>0.004131</td>\n",
       "      <td>0.727638</td>\n",
       "      <td>-0.070287</td>\n",
       "    </tr>\n",
       "    <tr>\n",
       "      <th>Open</th>\n",
       "      <td>-0.149620</td>\n",
       "      <td>0.762323</td>\n",
       "      <td>0.763490</td>\n",
       "      <td>1.000000</td>\n",
       "      <td>0.466303</td>\n",
       "      <td>0.005774</td>\n",
       "      <td>0.418487</td>\n",
       "      <td>-0.042087</td>\n",
       "    </tr>\n",
       "    <tr>\n",
       "      <th>VGT Daily Returns</th>\n",
       "      <td>-0.267337</td>\n",
       "      <td>0.763116</td>\n",
       "      <td>0.775051</td>\n",
       "      <td>0.466303</td>\n",
       "      <td>1.000000</td>\n",
       "      <td>0.042492</td>\n",
       "      <td>0.970937</td>\n",
       "      <td>-0.116482</td>\n",
       "    </tr>\n",
       "    <tr>\n",
       "      <th>Volume</th>\n",
       "      <td>-0.044936</td>\n",
       "      <td>0.065627</td>\n",
       "      <td>0.004131</td>\n",
       "      <td>0.005774</td>\n",
       "      <td>0.042492</td>\n",
       "      <td>1.000000</td>\n",
       "      <td>0.035596</td>\n",
       "      <td>-0.025132</td>\n",
       "    </tr>\n",
       "    <tr>\n",
       "      <th>Adj Close</th>\n",
       "      <td>-0.273503</td>\n",
       "      <td>0.726117</td>\n",
       "      <td>0.727638</td>\n",
       "      <td>0.418487</td>\n",
       "      <td>0.970937</td>\n",
       "      <td>0.035596</td>\n",
       "      <td>1.000000</td>\n",
       "      <td>-0.122638</td>\n",
       "    </tr>\n",
       "    <tr>\n",
       "      <th>USD Daily Returns</th>\n",
       "      <td>-0.179185</td>\n",
       "      <td>-0.082713</td>\n",
       "      <td>-0.070287</td>\n",
       "      <td>-0.042087</td>\n",
       "      <td>-0.116482</td>\n",
       "      <td>-0.025132</td>\n",
       "      <td>-0.122638</td>\n",
       "      <td>1.000000</td>\n",
       "    </tr>\n",
       "  </tbody>\n",
       "</table>\n",
       "</div>"
      ],
      "text/plain": [
       "                   SPX Daily Returns      High       Low      Open  \\\n",
       "SPX Daily Returns           1.000000 -0.265552 -0.236901 -0.149620   \n",
       "High                       -0.265552  1.000000  0.750552  0.762323   \n",
       "Low                        -0.236901  0.750552  1.000000  0.763490   \n",
       "Open                       -0.149620  0.762323  0.763490  1.000000   \n",
       "VGT Daily Returns          -0.267337  0.763116  0.775051  0.466303   \n",
       "Volume                     -0.044936  0.065627  0.004131  0.005774   \n",
       "Adj Close                  -0.273503  0.726117  0.727638  0.418487   \n",
       "USD Daily Returns          -0.179185 -0.082713 -0.070287 -0.042087   \n",
       "\n",
       "                   VGT Daily Returns    Volume  Adj Close  USD Daily Returns  \n",
       "SPX Daily Returns          -0.267337 -0.044936  -0.273503          -0.179185  \n",
       "High                        0.763116  0.065627   0.726117          -0.082713  \n",
       "Low                         0.775051  0.004131   0.727638          -0.070287  \n",
       "Open                        0.466303  0.005774   0.418487          -0.042087  \n",
       "VGT Daily Returns           1.000000  0.042492   0.970937          -0.116482  \n",
       "Volume                      0.042492  1.000000   0.035596          -0.025132  \n",
       "Adj Close                   0.970937  0.035596   1.000000          -0.122638  \n",
       "USD Daily Returns          -0.116482 -0.025132  -0.122638           1.000000  "
      ]
     },
     "execution_count": 14,
     "metadata": {},
     "output_type": "execute_result"
    }
   ],
   "source": [
    "correlation = combined_daily_return_inception.corr()\n",
    "correlation"
   ]
  },
  {
   "cell_type": "code",
   "execution_count": 15,
   "id": "57b4d607",
   "metadata": {},
   "outputs": [
    {
     "data": {
      "text/plain": [
       "<matplotlib.axes._subplots.AxesSubplot at 0x7fa1f0b59310>"
      ]
     },
     "execution_count": 15,
     "metadata": {},
     "output_type": "execute_result"
    },
    {
     "data": {
      "image/png": "[encoded data removed]",
      "text/plain": [
       "<Figure size 432x288 with 2 Axes>"
      ]
     },
     "metadata": {
      "needs_background": "light"
     },
     "output_type": "display_data"
    }
   ],
   "source": [
    "sns.heatmap(correlation)\n"
   ]
  },
  {
   "cell_type": "code",
   "execution_count": 33,
   "id": "37ed15f7",
   "metadata": {},
   "outputs": [],
   "source": [
    "def price_chart_daily_returns():\n",
    "    VGT_path = Path(\"CsvFiles/VGT1.csv\")\n",
    "    VGT_df = pd.read_csv(VGT_path, index_col='Date', parse_dates=True, infer_datetime_format=True)\n",
    "    VGT_close = VGT_df[\"Close\"].pct_change()\n",
    "    price_chart_fig = plt.figure()\n",
    "    price_chart = VGT_close.hist(bins=150, density=True, histtype=\"stepfilled\", alpha=.5)\n",
    "    plt.title(\"Histogram of VGT Daily Returns\", weight=\"bold\")\n",
    "    plt.xlabel(\"Daily Returns\")\n",
    "    plt.ylabel(\"Frequency\")\n",
    "    plt.yticks(range(0, 16))\n",
    "    plt.xlim(xmin=-0.35, xmax = 0.45)\n",
    "    plt.close(price_chart_fig)\n",
    "    \n",
    "    return pn.pane.Matplotlib(price_chart_fig)"
   ]
  },
  {
   "cell_type": "code",
   "execution_count": 34,
   "id": "c77c208c",
   "metadata": {},
   "outputs": [
    {
     "data": {},
     "metadata": {},
     "output_type": "display_data"
    },
    {
     "data": {},
     "metadata": {},
     "output_type": "display_data"
    },
    {
     "data": {
      "application/vnd.holoviews_exec.v0+json": "",
      "text/html": [
       "<div id='1600'>\n",
       "\n",
       "\n",
       "\n",
       "\n",
       "\n",
       "  <div class=\"bk-root\" id=\"1375764c-9bd4-427f-90fa-ee647052cf71\" data-root-id=\"1600\"></div>\n",
       "</div>\n",
       "<script type=\"application/javascript\">(function(root) {\n",
       "  function embed_document(root) {\n",
       "    var docs_json = {\"6cd13588-a462-4b41-84fb-3c1a96e9d44e\":{\"defs\":[{\"extends\":null,\"module\":null,\"name\":\"ReactiveHTML1\",\"overrides\":[],\"properties\":[]},{\"extends\":null,\"module\":null,\"name\":\"FlexBox1\",\"overrides\":[],\"properties\":[{\"default\":\"flex-start\",\"kind\":null,\"name\":\"align_content\"},{\"default\":\"flex-start\",\"kind\":null,\"name\":\"align_items\"},{\"default\":\"row\",\"kind\":null,\"name\":\"flex_direction\"},{\"default\":\"wrap\",\"kind\":null,\"name\":\"flex_wrap\"},{\"default\":\"flex-start\",\"kind\":null,\"name\":\"justify_content\"}]},{\"extends\":null,\"module\":null,\"name\":\"TemplateActions1\",\"overrides\":[],\"properties\":[{\"default\":0,\"kind\":null,\"name\":\"open_modal\"},{\"default\":0,\"kind\":null,\"name\":\"close_modal\"}]},{\"extends\":null,\"module\":null,\"name\":\"MaterialTemplateActions1\",\"overrides\":[],\"properties\":[{\"default\":0,\"kind\":null,\"name\":\"open_modal\"},{\"default\":0,\"kind\":null,\"name\":\"close_modal\"}]}],\"roots\":{\"references\":[{\"attributes\":{\"text_color\":\"black\",\"text_font_size\":\"12pt\"},\"id\":\"1610\",\"type\":\"Title\"},{\"attributes\":{},\"id\":\"1630\",\"type\":\"ResetTool\"},{\"attributes\":{\"children\":[{\"id\":\"1603\"},{\"id\":\"1604\"}],\"margin\":[0,0,0,0],\"name\":\"Column02613\"},\"id\":\"1602\",\"type\":\"Column\"},{\"attributes\":{\"active_multi\":null,\"tools\":[{\"id\":\"1608\"},{\"id\":\"1626\"},{\"id\":\"1627\"},{\"id\":\"1628\"},{\"id\":\"1629\"},{\"id\":\"1630\"}]},\"id\":\"1632\",\"type\":\"Toolbar\"},{\"attributes\":{},\"id\":\"1628\",\"type\":\"WheelZoomTool\"},{\"attributes\":{\"client_comm_id\":\"12bc756ef8474039b9a734fa4aa6d809\",\"comm_id\":\"c35a5d72b0cb489ab241d27e85290d11\",\"plot_id\":\"1600\"},\"id\":\"1765\",\"type\":\"panel.models.comm_manager.CommManager\"},{\"attributes\":{\"axis\":{\"id\":\"1618\"},\"grid_line_color\":null,\"ticker\":null},\"id\":\"1621\",\"type\":\"Grid\"},{\"attributes\":{\"num_minor_ticks\":5,\"tickers\":[{\"id\":\"1661\"},{\"id\":\"1662\"},{\"id\":\"1663\"},{\"id\":\"1664\"},{\"id\":\"1665\"},{\"id\":\"1666\"},{\"id\":\"1667\"},{\"id\":\"1668\"},{\"id\":\"1669\"},{\"id\":\"1670\"},{\"id\":\"1671\"},{\"id\":\"1672\"}]},\"id\":\"1619\",\"type\":\"DatetimeTicker\"},{\"attributes\":{\"line_alpha\":0.1,\"line_color\":\"#30a2da\",\"line_width\":2,\"x\":{\"field\":\"Date\"},\"y\":{\"field\":\"Close\"}},\"id\":\"1643\",\"type\":\"Line\"},{\"attributes\":{\"months\":[0,4,8]},\"id\":\"1670\",\"type\":\"MonthsTicker\"},{\"attributes\":{\"axis\":{\"id\":\"1622\"},\"dimension\":1,\"grid_line_color\":null,\"ticker\":null},\"id\":\"1625\",\"type\":\"Grid\"},{\"attributes\":{\"axis_label\":\"Close\",\"formatter\":{\"id\":\"1653\"},\"major_label_policy\":{\"id\":\"1652\"},\"ticker\":{\"id\":\"1623\"}},\"id\":\"1622\",\"type\":\"LinearAxis\"},{\"attributes\":{\"mantissas\":[1,2,5],\"max_interval\":500.0,\"num_minor_ticks\":0},\"id\":\"1661\",\"type\":\"AdaptiveTicker\"},{\"attributes\":{\"end\":1546214400000.0,\"reset_end\":1546214400000.0,\"reset_start\":1514851200000.0,\"start\":1514851200000.0,\"tags\":[[[\"Date\",\"Date\",null]]]},\"id\":\"1606\",\"type\":\"Range1d\"},{\"attributes\":{},\"id\":\"1623\",\"type\":\"BasicTicker\"},{\"attributes\":{\"overlay\":{\"id\":\"1631\"}},\"id\":\"1629\",\"type\":\"BoxZoomTool\"},{\"attributes\":{\"reload\":false},\"id\":\"1832\",\"type\":\"panel.models.location.Location\"},{\"attributes\":{},\"id\":\"1650\",\"type\":\"DatetimeTickFormatter\"},{\"attributes\":{},\"id\":\"1627\",\"type\":\"PanTool\"},{\"attributes\":{\"source\":{\"id\":\"1639\"}},\"id\":\"1646\",\"type\":\"CDSView\"},{\"attributes\":{\"children\":[{\"id\":\"1601\"},{\"id\":\"1605\"}],\"margin\":[0,0,0,0],\"name\":\"Column02607\"},\"id\":\"1600\",\"type\":\"Column\"},{\"attributes\":{\"days\":[1,8,15,22]},\"id\":\"1666\",\"type\":\"DaysTicker\"},{\"attributes\":{\"days\":[1,15]},\"id\":\"1667\",\"type\":\"DaysTicker\"},{\"attributes\":{\"line_alpha\":0.2,\"line_color\":\"#30a2da\",\"line_width\":2,\"x\":{\"field\":\"Date\"},\"y\":{\"field\":\"Close\"}},\"id\":\"1644\",\"type\":\"Line\"},{\"attributes\":{\"bottom_units\":\"screen\",\"fill_alpha\":0.5,\"fill_color\":\"lightgrey\",\"left_units\":\"screen\",\"level\":\"overlay\",\"line_alpha\":1.0,\"line_color\":\"black\",\"line_dash\":[4,4],\"line_width\":2,\"right_units\":\"screen\",\"syncable\":false,\"top_units\":\"screen\"},\"id\":\"1631\",\"type\":\"BoxAnnotation\"},{\"attributes\":{\"children\":[{\"id\":\"1609\"}],\"margin\":[0,0,0,0],\"name\":\"Row02694\"},\"id\":\"1605\",\"type\":\"Row\"},{\"attributes\":{\"base\":24,\"mantissas\":[1,2,4,6,8,12],\"max_interval\":43200000.0,\"min_interval\":3600000.0,\"num_minor_ticks\":0},\"id\":\"1663\",\"type\":\"AdaptiveTicker\"},{\"attributes\":{\"months\":[0,2,4,6,8,10]},\"id\":\"1669\",\"type\":\"MonthsTicker\"},{\"attributes\":{\"end\":3,\"js_property_callbacks\":{\"change:value\":[{\"id\":\"1720\"}]},\"margin\":[0,10,5,10],\"show_value\":false,\"start\":0,\"tooltips\":false,\"value\":0},\"id\":\"1604\",\"type\":\"Slider\"},{\"attributes\":{\"data\":{\"Close\":{\"__ndarray__\":\"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\",\"dtype\":\"float64\",\"order\":\"little\",\"shape\":[251]},\"Date\":{\"__ndarray__\":\"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\",\"dtype\":\"float64\",\"order\":\"little\",\"shape\":[251]}},\"selected\":{\"id\":\"1640\"},\"selection_policy\":{\"id\":\"1674\"}},\"id\":\"1639\",\"type\":\"ColumnDataSource\"},{\"attributes\":{\"below\":[{\"id\":\"1618\"}],\"center\":[{\"id\":\"1621\"},{\"id\":\"1625\"}],\"height\":300,\"left\":[{\"id\":\"1622\"}],\"margin\":[5,5,5,5],\"min_border_bottom\":10,\"min_border_left\":10,\"min_border_right\":10,\"min_border_top\":10,\"renderers\":[{\"id\":\"1645\"}],\"sizing_mode\":\"fixed\",\"title\":{\"id\":\"1610\"},\"toolbar\":{\"id\":\"1632\"},\"width\":700,\"x_range\":{\"id\":\"1606\"},\"x_scale\":{\"id\":\"1614\"},\"y_range\":{\"id\":\"1607\"},\"y_scale\":{\"id\":\"1616\"}},\"id\":\"1609\",\"subtype\":\"Figure\",\"type\":\"Plot\"},{\"attributes\":{},\"id\":\"1649\",\"type\":\"AllLabels\"},{\"attributes\":{\"callback\":null,\"formatters\":{\"@{Date}\":\"datetime\"},\"renderers\":[{\"id\":\"1645\"}],\"tags\":[\"hv_created\"],\"tooltips\":[[\"Date\",\"@{Date}{%F %T}\"],[\"Close\",\"@{Close}\"]]},\"id\":\"1608\",\"type\":\"HoverTool\"},{\"attributes\":{\"base\":60,\"mantissas\":[1,2,5,10,15,20,30],\"max_interval\":1800000.0,\"min_interval\":1000.0,\"num_minor_ticks\":0},\"id\":\"1662\",\"type\":\"AdaptiveTicker\"},{\"attributes\":{\"args\":{\"bidirectional\":false,\"properties\":{},\"source\":{\"id\":\"1604\"},\"target\":{\"id\":\"1603\"}},\"code\":\"try { \\n    var labels = ['year: <b>2018</b>', 'year: <b>2019</b>', 'year: <b>2020</b>', 'year: <b>2021</b>']\\n    target.text = labels[source.value]\\n     } catch(err) { console.log(err) }\",\"tags\":[140333494237456]},\"id\":\"1720\",\"type\":\"CustomJS\"},{\"attributes\":{},\"id\":\"1653\",\"type\":\"BasicTickFormatter\"},{\"attributes\":{\"months\":[0,1,2,3,4,5,6,7,8,9,10,11]},\"id\":\"1668\",\"type\":\"MonthsTicker\"},{\"attributes\":{},\"id\":\"1640\",\"type\":\"Selection\"},{\"attributes\":{},\"id\":\"1616\",\"type\":\"LinearScale\"},{\"attributes\":{\"line_color\":\"#30a2da\",\"line_width\":2,\"x\":{\"field\":\"Date\"},\"y\":{\"field\":\"Close\"}},\"id\":\"1642\",\"type\":\"Line\"},{\"attributes\":{\"line_color\":\"#30a2da\",\"line_width\":2,\"x\":{\"field\":\"Date\"},\"y\":{\"field\":\"Close\"}},\"id\":\"1647\",\"type\":\"Line\"},{\"attributes\":{},\"id\":\"1614\",\"type\":\"LinearScale\"},{\"attributes\":{\"days\":[1,2,3,4,5,6,7,8,9,10,11,12,13,14,15,16,17,18,19,20,21,22,23,24,25,26,27,28,29,30,31]},\"id\":\"1664\",\"type\":\"DaysTicker\"},{\"attributes\":{},\"id\":\"1672\",\"type\":\"YearsTicker\"},{\"attributes\":{\"children\":[{\"id\":\"1602\"}],\"margin\":[0,0,0,0],\"name\":\"Column02695\"},\"id\":\"1601\",\"type\":\"Column\"},{\"attributes\":{},\"id\":\"1626\",\"type\":\"SaveTool\"},{\"attributes\":{\"days\":[1,4,7,10,13,16,19,22,25,28]},\"id\":\"1665\",\"type\":\"DaysTicker\"},{\"attributes\":{},\"id\":\"1674\",\"type\":\"UnionRenderers\"},{\"attributes\":{\"data_source\":{\"id\":\"1639\"},\"glyph\":{\"id\":\"1642\"},\"hover_glyph\":null,\"muted_glyph\":{\"id\":\"1644\"},\"nonselection_glyph\":{\"id\":\"1643\"},\"selection_glyph\":{\"id\":\"1647\"},\"view\":{\"id\":\"1646\"}},\"id\":\"1645\",\"type\":\"GlyphRenderer\"},{\"attributes\":{\"months\":[0,6]},\"id\":\"1671\",\"type\":\"MonthsTicker\"},{\"attributes\":{\"margin\":[5,0,0,10],\"name\":\"\",\"style\":{\"white-space\":\"nowrap\"},\"text\":\"year: <b>2018</b>\"},\"id\":\"1603\",\"type\":\"Div\"},{\"attributes\":{},\"id\":\"1652\",\"type\":\"AllLabels\"},{\"attributes\":{\"end\":208.434998,\"reset_end\":208.434998,\"reset_start\":149.934998,\"start\":149.934998,\"tags\":[[[\"Close\",\"Close\",null]]]},\"id\":\"1607\",\"type\":\"Range1d\"},{\"attributes\":{\"axis_label\":\"Date\",\"formatter\":{\"id\":\"1650\"},\"major_label_policy\":{\"id\":\"1649\"},\"ticker\":{\"id\":\"1619\"}},\"id\":\"1618\",\"type\":\"DatetimeAxis\"}],\"root_ids\":[\"1600\",\"1765\",\"1832\"]},\"title\":\"Bokeh Application\",\"version\":\"2.3.2\"}};\n",
       "    var render_items = [{\"docid\":\"6cd13588-a462-4b41-84fb-3c1a96e9d44e\",\"root_ids\":[\"1600\"],\"roots\":{\"1600\":\"1375764c-9bd4-427f-90fa-ee647052cf71\"}}];\n",
       "    root.Bokeh.embed.embed_items_notebook(docs_json, render_items);\n",
       "  }\n",
       "  if (root.Bokeh !== undefined && root.Bokeh.Panel !== undefined) {\n",
       "    embed_document(root);\n",
       "  } else {\n",
       "    var attempts = 0;\n",
       "    var timer = setInterval(function(root) {\n",
       "      if (root.Bokeh !== undefined && root.Bokeh.Panel !== undefined) {\n",
       "        clearInterval(timer);\n",
       "        embed_document(root);\n",
       "      } else if (document.readyState == \"complete\") {\n",
       "        attempts++;\n",
       "        if (attempts > 200) {\n",
       "          clearInterval(timer);\n",
       "          console.log(\"Bokeh: ERROR: Unable to run BokehJS code because BokehJS library is missing\");\n",
       "        }\n",
       "      }\n",
       "    }, 25, root)\n",
       "  }\n",
       "})(window);</script>"
      ],
      "text/plain": [
       "Column\n",
       "    [0] Column\n",
       "        [0] DiscreteSlider(formatter='%d', name='year', options=[2018, 2019, 2020, 2021], value=2018)\n",
       "    [1] Row\n",
       "        [0] HoloViews(Curve, name='interactive02606')"
      ]
     },
     "execution_count": 34,
     "metadata": {
      "application/vnd.holoviews_exec.v0+json": {
       "id": "1600"
      }
     },
     "output_type": "execute_result"
    }
   ],
   "source": [
    "def choose_timeframe(year):\n",
    "    \n",
    "    \n",
    "    return prices_VGT.loc[prices_VGT.index.year==year,:].hvplot.line()\n",
    "\n",
    "timeframe = prices_VGT.index.year.unique()\n",
    "\n",
    "interact(choose_timeframe, year=timeframe)"
   ]
  },
  {
   "cell_type": "code",
   "execution_count": 35,
   "id": "e890aae8",
   "metadata": {},
   "outputs": [],
   "source": [
    "def correlation_matrix():\n",
    "    \n",
    "    start_sp = datetime.datetime(2010, 7, 16)\n",
    "    end_sp = datetime.datetime(2019, 10, 1)\n",
    "    #SPDR S&P 500 ETF\n",
    "    SPX_df_inception = pdr.get_data_yahoo('SPY', start_sp, end_sp)\n",
    "\n",
    "    #iShares Core U.S. Aggregate Bond ETF\n",
    "    VGT_df_inception = pdr.get_data_yahoo('AGG', start_sp, end_sp)\n",
    "\n",
    "    #US Dollar/USDX - Index\n",
    "    USD_df_inception = pdr.get_data_yahoo('DX-Y.NYB', start_sp, end_sp)\n",
    "\n",
    "\n",
    "    \n",
    "    SPX_df_inception.drop(columns=['High', 'Low', 'Open', 'Volume', 'Adj Close'], inplace=True)\n",
    "    VGT_df_inception.drop(columns=['High', 'Low', 'Open', 'Volume', 'Adj Close'], inplace=True)\n",
    "    USD_df_inception.drop(columns=['High', 'Low', 'Open', 'Volume', 'Adj Close'], inplace=True)\n",
    "    \n",
    "    SPX_df_inception = SPX_df_inception.rename(columns = {\"Close\": \"SPX Daily Returns\"}) \n",
    "    VGT_df_inception = AGG_df_inception.rename(columns = {\"Close\": \"AGG Daily Returns\"})\n",
    "    USD_df_inception = USD_df_inception.rename(columns = {\"Close\": \"USD Daily Returns\"}) \n",
    "\n",
    "    \n",
    "    VGT_path = Path(\"CsvFiles/VGT1.csv\")\n",
    "    prices_VGT = pd.read_csv(VGT_path, index_col='Date', parse_dates=True, infer_datetime_format=True)\n",
    "    prices_VGT.drop(columns=['High', 'Low', 'Open', 'Volume', 'Adj Close'], inplace=True)\n",
    "    prices_VGT = prices_VGT.rename(columns = {\"Close\": \"VGT Daily Returns\"})\n",
    "    \n",
    "    combined_df_inception_price = pd.concat([prices_VGT, SPX_df_inception, VGT_df_inception, USD_df_inception],axis='columns', join=\"inner\")\n",
    "    combined_daily_return_inception = combined_df_inception_price.pct_change()\n",
    "    correlation = combined_daily_return_inception.corr()\n",
    "    \n",
    "    return (correlation)"
   ]
  },
  {
   "cell_type": "code",
   "execution_count": 39,
   "id": "0b3375c5",
   "metadata": {},
   "outputs": [
    {
     "name": "stderr",
     "output_type": "stream",
     "text": [
      "/opt/anaconda3/envs/pyvizenv/lib/python3.7/site-packages/matplotlib/axes/_base.py:3215: MatplotlibDeprecationWarning: \n",
      "The `xmin` argument was deprecated in Matplotlib 3.0 and will be removed in 3.2. Use `left` instead.\n",
      "  alternative='`left`', obj_type='argument')\n",
      "/opt/anaconda3/envs/pyvizenv/lib/python3.7/site-packages/matplotlib/axes/_base.py:3221: MatplotlibDeprecationWarning: \n",
      "The `xmax` argument was deprecated in Matplotlib 3.0 and will be removed in 3.2. Use `right` instead.\n",
      "  alternative='`right`', obj_type='argument')\n"
     ]
    },
    {
     "ename": "NameError",
     "evalue": "name 'commentary' is not defined",
     "output_type": "error",
     "traceback": [
      "\u001b[0;31m---------------------------------------------------------------------------\u001b[0m",
      "\u001b[0;31mNameError\u001b[0m                                 Traceback (most recent call last)",
      "\u001b[0;32m<ipython-input-39-345f9725d09e>\u001b[0m in \u001b[0;36m<module>\u001b[0;34m\u001b[0m\n\u001b[1;32m      8\u001b[0m \u001b[0mprice_chart_inception\u001b[0m \u001b[0;34m=\u001b[0m \u001b[0mpn\u001b[0m\u001b[0;34m.\u001b[0m\u001b[0mColumn\u001b[0m\u001b[0;34m(\u001b[0m\u001b[0mcommentary_daily_returns\u001b[0m\u001b[0;34m,\u001b[0m \u001b[0mprice_chart_daily_returns\u001b[0m\u001b[0;34m(\u001b[0m\u001b[0;34m)\u001b[0m\u001b[0;34m)\u001b[0m\u001b[0;34m\u001b[0m\u001b[0;34m\u001b[0m\u001b[0m\n\u001b[1;32m      9\u001b[0m \u001b[0;34m\u001b[0m\u001b[0m\n\u001b[0;32m---> 10\u001b[0;31m \u001b[0mcorr\u001b[0m \u001b[0;34m=\u001b[0m \u001b[0mpn\u001b[0m\u001b[0;34m.\u001b[0m\u001b[0mColumn\u001b[0m\u001b[0;34m(\u001b[0m\u001b[0mcommentary\u001b[0m\u001b[0;34m,\u001b[0m \u001b[0mcorrelation_matrix\u001b[0m\u001b[0;34m(\u001b[0m\u001b[0;34m)\u001b[0m\u001b[0;34m,\u001b[0m \u001b[0mcorrelation_heat_map\u001b[0m\u001b[0;34m(\u001b[0m\u001b[0;34m)\u001b[0m \u001b[0;34m)\u001b[0m\u001b[0;34m\u001b[0m\u001b[0;34m\u001b[0m\u001b[0m\n\u001b[0m\u001b[1;32m     11\u001b[0m \u001b[0;34m\u001b[0m\u001b[0m\n\u001b[1;32m     12\u001b[0m \u001b[0;31m# Create tabs\u001b[0m\u001b[0;34m\u001b[0m\u001b[0;34m\u001b[0m\u001b[0;34m\u001b[0m\u001b[0m\n",
      "\u001b[0;31mNameError\u001b[0m: name 'commentary' is not defined"
     ]
    }
   ],
   "source": [
    "title = '#VGT Price Chart Since Inception, By Year'\n",
    "subtitle = \"VGT reached a record high on December 12 2016 and the S&P500 reached its most recent record high on July 26 2019\"\n",
    "commentary_daily_returns = 'Based on the visual, VGT appears to follow a normal distribution of returns'\n",
    "commentary_correlation = 'VGT, since inception, has shown a very high correlaton to the SPDR S&P 500 ETF, Shares Core U.S. Aggregate Bond ETF,US Dollar/USDX - Index, Bloomberg Commodity Index, SPDR Gold Shares'\n",
    "\n",
    "price_tab_interactive = pn.Row(pn.Column(title, subtitle), interact(choose_timeframe, year=timeframe))\n",
    "\n",
    "price_chart_inception = pn.Column(commentary_daily_returns, price_chart_daily_returns())\n",
    "\n",
    "corr = pn.Column(commentary, correlation_matrix(), correlation_heat_map() )\n",
    "\n",
    "# Create tabs\n",
    "VGT_dashboard = pn.Tabs((\"Interactive Price Chart\", price_tab_interactive), (\"VGT Daily Returns\", price_chart_inception), (\"Correlation Matrix\", corr))"
   ]
  },
  {
   "cell_type": "code",
   "execution_count": 38,
   "id": "9b8cf4be",
   "metadata": {},
   "outputs": [
    {
     "ename": "NameError",
     "evalue": "name 'VGT_dashboard' is not defined",
     "output_type": "error",
     "traceback": [
      "\u001b[0;31m---------------------------------------------------------------------------\u001b[0m",
      "\u001b[0;31mNameError\u001b[0m                                 Traceback (most recent call last)",
      "\u001b[0;32m<ipython-input-38-cf7e5075745a>\u001b[0m in \u001b[0;36m<module>\u001b[0;34m\u001b[0m\n\u001b[0;32m----> 1\u001b[0;31m \u001b[0mVGT_dashboard\u001b[0m\u001b[0;34m\u001b[0m\u001b[0;34m\u001b[0m\u001b[0m\n\u001b[0m",
      "\u001b[0;31mNameError\u001b[0m: name 'VGT_dashboard' is not defined"
     ]
    }
   ],
   "source": [
    "VGT_dashboard"
   ]
  },
  {
   "cell_type": "code",
   "execution_count": null,
   "id": "2025180a",
   "metadata": {},
   "outputs": [],
   "source": []
  }
 ],
 "metadata": {
  "kernelspec": {
   "display_name": "Python [conda env:pyvizenv] *",
   "language": "python",
   "name": "conda-env-pyvizenv-py"
  },
  "language_info": {
   "codemirror_mode": {
    "name": "ipython",
    "version": 3
   },
   "file_extension": ".py",
   "mimetype": "text/x-python",
   "name": "python",
   "nbconvert_exporter": "python",
   "pygments_lexer": "ipython3",
   "version": "3.7.10"
  }
 },
 "nbformat": 4,
 "nbformat_minor": 5
}
