{
 "cells": [
  {
   "cell_type": "code",
   "execution_count": 1,
   "id": "eb947f7d-a370-4144-9c83-db6dc614a178",
   "metadata": {},
   "outputs": [],
   "source": [
    "# Initial imports\n",
    "import pandas as pd\n",
    "import numpy as np\n",
    "import datetime as dt\n",
    "from pathlib import Path\n",
    "import seaborn as sns\n",
    "import matplotlib.pyplot as plt\n",
    "%matplotlib inline"
   ]
  },
  {
   "cell_type": "code",
   "execution_count": 9,
   "id": "bcd14eb7-b6ed-4e07-8c24-9c9300d295d8",
   "metadata": {},
   "outputs": [],
   "source": [
    "# Set file path to csv and use file path to read CSV into a DataFrame and displaying a few rows\n",
    "xlf_csv = Path(\"CsvFiles/XLF.csv\")\n",
    "vgt_csv= Path(\"CsvFiles/VGT.csv\")\n",
    "# set file path to read CSV into a DataFrame\n",
    "xlf_data = pd.read_csv(xlf_csv)\n",
    "vgt_data = pd.read_csv(vgt_csv)"
   ]
  },
  {
   "cell_type": "code",
   "execution_count": 8,
   "id": "7d83bec6-79d4-4230-9fbe-e939ee082f20",
   "metadata": {},
   "outputs": [
    {
     "ename": "NameError",
     "evalue": "name 'dc' is not defined",
     "output_type": "error",
     "traceback": [
      "\u001b[1;31m---------------------------------------------------------------------------\u001b[0m",
      "\u001b[1;31mNameError\u001b[0m                                 Traceback (most recent call last)",
      "\u001b[1;32mC:\\Users\\WESLEY~1\\AppData\\Local\\Temp/ipykernel_15876/3845471178.py\u001b[0m in \u001b[0;36m<module>\u001b[1;34m\u001b[0m\n\u001b[1;32m----> 1\u001b[1;33m \u001b[0mdc\u001b[0m\u001b[1;33m\u001b[0m\u001b[1;33m\u001b[0m\u001b[0m\n\u001b[0m",
      "\u001b[1;31mNameError\u001b[0m: name 'dc' is not defined"
     ]
    }
   ],
   "source": []
  },
  {
   "cell_type": "code",
   "execution_count": null,
   "id": "264b088c-2b1f-4e7a-85dc-a099f1fe2e73",
   "metadata": {},
   "outputs": [],
   "source": []
  }
 ],
 "metadata": {
  "kernelspec": {
   "display_name": "Python 3 (ipykernel)",
   "language": "python",
   "name": "python3"
  },
  "language_info": {
   "codemirror_mode": {
    "name": "ipython",
    "version": 3
   },
   "file_extension": ".py",
   "mimetype": "text/x-python",
   "name": "python",
   "nbconvert_exporter": "python",
   "pygments_lexer": "ipython3",
   "version": "3.8.8"
  }
 },
 "nbformat": 4,
 "nbformat_minor": 5
}
